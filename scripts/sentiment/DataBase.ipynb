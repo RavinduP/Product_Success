{
 "cells": [
  {
   "cell_type": "code",
   "execution_count": 4,
   "metadata": {},
   "outputs": [],
   "source": [
    "import pandas as pd\n",
    "\n",
    "\n",
    "df = pd.read_csv('../Data/new_dataset.csv')"
   ]
  },
  {
   "cell_type": "code",
   "execution_count": 5,
   "metadata": {},
   "outputs": [
    {
     "data": {
      "text/html": [
       "<div>\n",
       "<style scoped>\n",
       "    .dataframe tbody tr th:only-of-type {\n",
       "        vertical-align: middle;\n",
       "    }\n",
       "\n",
       "    .dataframe tbody tr th {\n",
       "        vertical-align: top;\n",
       "    }\n",
       "\n",
       "    .dataframe thead th {\n",
       "        text-align: right;\n",
       "    }\n",
       "</style>\n",
       "<table border=\"1\" class=\"dataframe\">\n",
       "  <thead>\n",
       "    <tr style=\"text-align: right;\">\n",
       "      <th></th>\n",
       "      <th>ID</th>\n",
       "      <th>Date</th>\n",
       "      <th>product_type</th>\n",
       "      <th>size</th>\n",
       "      <th>text</th>\n",
       "      <th>rating</th>\n",
       "      <th>sentiment</th>\n",
       "    </tr>\n",
       "  </thead>\n",
       "  <tbody>\n",
       "    <tr>\n",
       "      <th>0</th>\n",
       "      <td>1</td>\n",
       "      <td>2024-07-26</td>\n",
       "      <td>Multi-purpose ladder</td>\n",
       "      <td>12ft</td>\n",
       "      <td>great daraz kept connection receive ladder lat...</td>\n",
       "      <td>5</td>\n",
       "      <td>1</td>\n",
       "    </tr>\n",
       "    <tr>\n",
       "      <th>1</th>\n",
       "      <td>2</td>\n",
       "      <td>2024-04-20</td>\n",
       "      <td>Multi-purpose ladder</td>\n",
       "      <td>12ft</td>\n",
       "      <td>good qualityyou dont say anything say good lok...</td>\n",
       "      <td>5</td>\n",
       "      <td>1</td>\n",
       "    </tr>\n",
       "    <tr>\n",
       "      <th>2</th>\n",
       "      <td>3</td>\n",
       "      <td>2025-01-15</td>\n",
       "      <td>Multi-purpose ladder</td>\n",
       "      <td>12ft</td>\n",
       "      <td>good quality recommended</td>\n",
       "      <td>5</td>\n",
       "      <td>1</td>\n",
       "    </tr>\n",
       "    <tr>\n",
       "      <th>3</th>\n",
       "      <td>4</td>\n",
       "      <td>2024-11-26</td>\n",
       "      <td>Multi-purpose ladder</td>\n",
       "      <td>12ft</td>\n",
       "      <td>good condition quick service</td>\n",
       "      <td>5</td>\n",
       "      <td>1</td>\n",
       "    </tr>\n",
       "    <tr>\n",
       "      <th>4</th>\n",
       "      <td>5</td>\n",
       "      <td>2024-06-30</td>\n",
       "      <td>Multi-purpose ladder</td>\n",
       "      <td>12ft</td>\n",
       "      <td>thanks daraz product deliverd time safe packin...</td>\n",
       "      <td>5</td>\n",
       "      <td>1</td>\n",
       "    </tr>\n",
       "  </tbody>\n",
       "</table>\n",
       "</div>"
      ],
      "text/plain": [
       "   ID        Date          product_type  size  \\\n",
       "0   1  2024-07-26  Multi-purpose ladder  12ft   \n",
       "1   2  2024-04-20  Multi-purpose ladder  12ft   \n",
       "2   3  2025-01-15  Multi-purpose ladder  12ft   \n",
       "3   4  2024-11-26  Multi-purpose ladder  12ft   \n",
       "4   5  2024-06-30  Multi-purpose ladder  12ft   \n",
       "\n",
       "                                                text  rating  sentiment  \n",
       "0  great daraz kept connection receive ladder lat...       5          1  \n",
       "1  good qualityyou dont say anything say good lok...       5          1  \n",
       "2                           good quality recommended       5          1  \n",
       "3                       good condition quick service       5          1  \n",
       "4  thanks daraz product deliverd time safe packin...       5          1  "
      ]
     },
     "execution_count": 5,
     "metadata": {},
     "output_type": "execute_result"
    }
   ],
   "source": [
    "df.head()"
   ]
  },
  {
   "cell_type": "code",
   "execution_count": 6,
   "metadata": {},
   "outputs": [
    {
     "name": "stdout",
     "output_type": "stream",
     "text": [
      "Data inserted into MongoDB successfully!\n"
     ]
    }
   ],
   "source": [
    "from pymongo import MongoClient\n",
    "\n",
    "# Convert DataFrame to a list of dictionaries (JSON format)\n",
    "data = df.to_dict(orient=\"records\")\n",
    "\n",
    "# Connect to MongoDB\n",
    "client = MongoClient(\"mongodb://localhost:27017/\")\n",
    "db = client[\"Sentiment_DB\"]  # Database name\n",
    "collection = db[\"dataset\"]  # Collection name\n",
    "\n",
    "# Insert data into MongoDB\n",
    "collection.insert_many(data)\n",
    "\n",
    "print(\"Data inserted into MongoDB successfully!\")"
   ]
  }
 ],
 "metadata": {
  "kernelspec": {
   "display_name": "Python 3",
   "language": "python",
   "name": "python3"
  },
  "language_info": {
   "codemirror_mode": {
    "name": "ipython",
    "version": 3
   },
   "file_extension": ".py",
   "mimetype": "text/x-python",
   "name": "python",
   "nbconvert_exporter": "python",
   "pygments_lexer": "ipython3",
   "version": "3.11.9"
  }
 },
 "nbformat": 4,
 "nbformat_minor": 2
}
