{
 "cells": [
  {
   "cell_type": "markdown",
   "metadata": {},
   "source": [
    "## Exploratory Data Analysis"
   ]
  },
  {
   "cell_type": "code",
   "execution_count": 49,
   "metadata": {},
   "outputs": [],
   "source": [
    "import numpy as np \n",
    "import pandas as pd\n",
    "import os\n",
    "import seaborn as sns\n",
    "import matplotlib.pyplot as plt\n",
    "plt.style.use('ggplot')\n",
    "from tqdm import tqdm\n",
    "import re\n",
    "import nltk"
   ]
  },
  {
   "cell_type": "code",
   "execution_count": 50,
   "metadata": {},
   "outputs": [
    {
     "name": "stdout",
     "output_type": "stream",
     "text": [
      "(1071, 5)\n"
     ]
    }
   ],
   "source": [
    "# Load dataset\n",
    "\n",
    "df = pd.read_csv('../Data/google_API/reviews.csv')\n",
    "print(df.shape)"
   ]
  },
  {
   "cell_type": "code",
   "execution_count": 51,
   "metadata": {},
   "outputs": [
    {
     "name": "stdout",
     "output_type": "stream",
     "text": [
      "<class 'pandas.core.frame.DataFrame'>\n",
      "RangeIndex: 1071 entries, 0 to 1070\n",
      "Data columns (total 5 columns):\n",
      " #   Column        Non-Null Count  Dtype \n",
      "---  ------        --------------  ----- \n",
      " 0   ID            1071 non-null   int64 \n",
      " 1   product_type  1071 non-null   object\n",
      " 2   size          1071 non-null   object\n",
      " 3   text          1071 non-null   object\n",
      " 4   rating        1071 non-null   int64 \n",
      "dtypes: int64(2), object(3)\n",
      "memory usage: 42.0+ KB\n"
     ]
    },
    {
     "data": {
      "text/html": [
       "<div>\n",
       "<style scoped>\n",
       "    .dataframe tbody tr th:only-of-type {\n",
       "        vertical-align: middle;\n",
       "    }\n",
       "\n",
       "    .dataframe tbody tr th {\n",
       "        vertical-align: top;\n",
       "    }\n",
       "\n",
       "    .dataframe thead th {\n",
       "        text-align: right;\n",
       "    }\n",
       "</style>\n",
       "<table border=\"1\" class=\"dataframe\">\n",
       "  <thead>\n",
       "    <tr style=\"text-align: right;\">\n",
       "      <th></th>\n",
       "      <th>ID</th>\n",
       "      <th>product_type</th>\n",
       "      <th>size</th>\n",
       "      <th>text</th>\n",
       "      <th>rating</th>\n",
       "    </tr>\n",
       "  </thead>\n",
       "  <tbody>\n",
       "    <tr>\n",
       "      <th>0</th>\n",
       "      <td>1</td>\n",
       "      <td>Multi-purpose ladder</td>\n",
       "      <td>12ft</td>\n",
       "      <td>This is great. Daraz kept the connection until...</td>\n",
       "      <td>5</td>\n",
       "    </tr>\n",
       "    <tr>\n",
       "      <th>1</th>\n",
       "      <td>2</td>\n",
       "      <td>Multi-purpose ladder</td>\n",
       "      <td>12ft</td>\n",
       "      <td>Good Quality.You don't say anything to say goo...</td>\n",
       "      <td>5</td>\n",
       "    </tr>\n",
       "    <tr>\n",
       "      <th>2</th>\n",
       "      <td>3</td>\n",
       "      <td>Multi-purpose ladder</td>\n",
       "      <td>12ft</td>\n",
       "      <td>Good quality and recommended</td>\n",
       "      <td>5</td>\n",
       "    </tr>\n",
       "    <tr>\n",
       "      <th>3</th>\n",
       "      <td>4</td>\n",
       "      <td>Multi-purpose ladder</td>\n",
       "      <td>12ft</td>\n",
       "      <td>Good condition and quick service</td>\n",
       "      <td>5</td>\n",
       "    </tr>\n",
       "    <tr>\n",
       "      <th>4</th>\n",
       "      <td>5</td>\n",
       "      <td>Multi-purpose ladder</td>\n",
       "      <td>12ft</td>\n",
       "      <td>Thanks Daraz, product was deliverd on time wit...</td>\n",
       "      <td>5</td>\n",
       "    </tr>\n",
       "  </tbody>\n",
       "</table>\n",
       "</div>"
      ],
      "text/plain": [
       "   ID          product_type  size  \\\n",
       "0   1  Multi-purpose ladder  12ft   \n",
       "1   2  Multi-purpose ladder  12ft   \n",
       "2   3  Multi-purpose ladder  12ft   \n",
       "3   4  Multi-purpose ladder  12ft   \n",
       "4   5  Multi-purpose ladder  12ft   \n",
       "\n",
       "                                                text  rating  \n",
       "0  This is great. Daraz kept the connection until...       5  \n",
       "1  Good Quality.You don't say anything to say goo...       5  \n",
       "2                       Good quality and recommended       5  \n",
       "3                   Good condition and quick service       5  \n",
       "4  Thanks Daraz, product was deliverd on time wit...       5  "
      ]
     },
     "execution_count": 51,
     "metadata": {},
     "output_type": "execute_result"
    }
   ],
   "source": [
    "# Display basic info\n",
    "\n",
    "df.info()\n",
    "df.head()"
   ]
  },
  {
   "cell_type": "code",
   "execution_count": 52,
   "metadata": {},
   "outputs": [
    {
     "data": {
      "text/plain": [
       "'A product at the highest fair value for the price paid. It is a sturdy ladder with a superior finish.'"
      ]
     },
     "execution_count": 52,
     "metadata": {},
     "output_type": "execute_result"
    }
   ],
   "source": [
    "df['text'].values[10]"
   ]
  },
  {
   "cell_type": "code",
   "execution_count": 53,
   "metadata": {},
   "outputs": [
    {
     "data": {
      "text/plain": [
       "ID              0\n",
       "product_type    0\n",
       "size            0\n",
       "text            0\n",
       "rating          0\n",
       "dtype: int64"
      ]
     },
     "execution_count": 53,
     "metadata": {},
     "output_type": "execute_result"
    }
   ],
   "source": [
    "# checking for null values\n",
    "\n",
    "df.isnull().sum()"
   ]
  },
  {
   "cell_type": "markdown",
   "metadata": {},
   "source": [
    "### no missing values"
   ]
  },
  {
   "cell_type": "code",
   "execution_count": 54,
   "metadata": {},
   "outputs": [
    {
     "data": {
      "text/plain": [
       "np.int64(0)"
      ]
     },
     "execution_count": 54,
     "metadata": {},
     "output_type": "execute_result"
    }
   ],
   "source": [
    "# checking for duplicates\n",
    "\n",
    "df.duplicated().sum()"
   ]
  },
  {
   "cell_type": "markdown",
   "metadata": {},
   "source": [
    "### no duplicate values"
   ]
  },
  {
   "cell_type": "code",
   "execution_count": 55,
   "metadata": {},
   "outputs": [
    {
     "data": {
      "image/png": "[encoded data removed]",
      "text/plain": [
       "<Figure size 700x400 with 1 Axes>"
      ]
     },
     "metadata": {},
     "output_type": "display_data"
    }
   ],
   "source": [
    "ax = df['rating'].value_counts().sort_index() \\\n",
    "    .plot(kind='bar', title='Count of reviews by Stars',figsize=(7,4),color='brown')\n",
    "\n",
    "ax.set_xlabel('Review Stars')\n",
    "plt.show()"
   ]
  },
  {
   "cell_type": "markdown",
   "metadata": {},
   "source": [
    "## Preproccessing"
   ]
  },
  {
   "cell_type": "code",
   "execution_count": 56,
   "metadata": {},
   "outputs": [],
   "source": [
    "import pandas as pd\n",
    "import re\n",
    "import nltk\n",
    "from nltk.corpus import stopwords\n"
   ]
  },
  {
   "cell_type": "code",
   "execution_count": 57,
   "metadata": {},
   "outputs": [],
   "source": [
    "# load the dataset\n",
    "\n",
    "data = pd.read_csv('../Data/google_API/reviews.csv')"
   ]
  },
  {
   "cell_type": "code",
   "execution_count": 58,
   "metadata": {},
   "outputs": [
    {
     "data": {
      "text/plain": [
       "0    This is great. Daraz kept the connection until...\n",
       "1    Good Quality.You don't say anything to say goo...\n",
       "2                         Good quality and recommended\n",
       "3                     Good condition and quick service\n",
       "4    Thanks Daraz, product was deliverd on time wit...\n",
       "Name: text, dtype: object"
      ]
     },
     "execution_count": 58,
     "metadata": {},
     "output_type": "execute_result"
    }
   ],
   "source": [
    "data[\"text\"].head()"
   ]
  },
  {
   "cell_type": "markdown",
   "metadata": {},
   "source": [
    "### Step 1: Convert text into lowercase"
   ]
  },
  {
   "cell_type": "code",
   "execution_count": 59,
   "metadata": {},
   "outputs": [
    {
     "name": "stdout",
     "output_type": "stream",
     "text": [
      "0    this is great. daraz kept the connection until...\n",
      "1    good quality.you don't say anything to say goo...\n",
      "2                         good quality and recommended\n",
      "3                     good condition and quick service\n",
      "4    thanks daraz, product was deliverd on time wit...\n",
      "Name: text, dtype: object\n"
     ]
    }
   ],
   "source": [
    "data[\"text\"] = data[\"text\"].str.lower()\n",
    "\n",
    "print(data[\"text\"].head())  # Ensure text is in lowercase\n"
   ]
  },
  {
   "cell_type": "markdown",
   "metadata": {},
   "source": [
    "### Step 2: Remove special characters, numbers, and extra spaces"
   ]
  },
  {
   "cell_type": "code",
   "execution_count": 60,
   "metadata": {},
   "outputs": [
    {
     "name": "stdout",
     "output_type": "stream",
     "text": [
      "0    this is great daraz kept the connection until ...\n",
      "1    good qualityyou dont say anything to say good ...\n",
      "2                         good quality and recommended\n",
      "3                     good condition and quick service\n",
      "4    thanks daraz product was deliverd on time with...\n",
      "Name: text, dtype: object\n"
     ]
    }
   ],
   "source": [
    "def clean_special_chars(text):\n",
    "    text = re.sub(r\"[^a-z\\s]\", \"\", text)  # Keep only letters and spaces\n",
    "    text = re.sub(r\"\\s+\", \" \", text).strip()  # Remove extra spaces\n",
    "    return text\n",
    "\n",
    "data[\"text\"] = data[\"text\"].apply(clean_special_chars)\n",
    "\n",
    "print(data[\"text\"].head())  # Text should be clean with only letters and spaces"
   ]
  },
  {
   "cell_type": "markdown",
   "metadata": {},
   "source": [
    "### Step 3: Remove stop words"
   ]
  },
  {
   "cell_type": "code",
   "execution_count": 61,
   "metadata": {},
   "outputs": [
    {
     "name": "stdout",
     "output_type": "stream",
     "text": [
      "0    great daraz kept connection receive ladder lat...\n",
      "1    good qualityyou dont say anything say good lok...\n",
      "2                             good quality recommended\n",
      "3                         good condition quick service\n",
      "4    thanks daraz product deliverd time safe packin...\n",
      "Name: text, dtype: object\n"
     ]
    },
    {
     "name": "stderr",
     "output_type": "stream",
     "text": [
      "[nltk_data] Downloading package stopwords to\n",
      "[nltk_data]     C:\\Users\\Nethma\\AppData\\Roaming\\nltk_data...\n",
      "[nltk_data]   Package stopwords is already up-to-date!\n"
     ]
    }
   ],
   "source": [
    "nltk.download(\"stopwords\")\n",
    "stop_words = set(stopwords.words(\"english\"))\n",
    "\n",
    "def remove_stopwords(text):\n",
    "    return \" \".join(word for word in text.split() if word not in stop_words)\n",
    "\n",
    "data[\"text\"] = data[\"text\"].apply(remove_stopwords)\n",
    "\n",
    "print(data[\"text\"].head())  # Stopwords should be removed\n"
   ]
  },
  {
   "cell_type": "code",
   "execution_count": 62,
   "metadata": {},
   "outputs": [
    {
     "name": "stdout",
     "output_type": "stream",
     "text": [
      "pre_reviews dataset successfully created!\n"
     ]
    }
   ],
   "source": [
    "# Save the new CSV file\n",
    "data.to_csv(\"../Data/google_API/pre_reviews.csv\", index=False)\n",
    "\n",
    "print(\"pre_reviews dataset successfully created!\")"
   ]
  },
  {
   "cell_type": "markdown",
   "metadata": {},
   "source": [
    "### Check missing values again"
   ]
  },
  {
   "cell_type": "code",
   "execution_count": 63,
   "metadata": {},
   "outputs": [],
   "source": [
    "# load the dataset\n",
    "\n",
    "df = pd.read_csv('../Data/google_API/pre_reviews.csv')"
   ]
  },
  {
   "cell_type": "code",
   "execution_count": 64,
   "metadata": {},
   "outputs": [
    {
     "data": {
      "text/plain": [
       "ID              0\n",
       "product_type    0\n",
       "size            0\n",
       "text            8\n",
       "rating          0\n",
       "dtype: int64"
      ]
     },
     "execution_count": 64,
     "metadata": {},
     "output_type": "execute_result"
    }
   ],
   "source": [
    "#check missing values\n",
    "df.isnull().sum()"
   ]
  },
  {
   "cell_type": "code",
   "execution_count": 65,
   "metadata": {},
   "outputs": [
    {
     "data": {
      "text/plain": [
       "np.int64(0)"
      ]
     },
     "execution_count": 65,
     "metadata": {},
     "output_type": "execute_result"
    }
   ],
   "source": [
    "# check duplicate values\n",
    "df.duplicated().sum()"
   ]
  },
  {
   "cell_type": "code",
   "execution_count": 66,
   "metadata": {},
   "outputs": [
    {
     "data": {
      "text/plain": [
       "ID              0\n",
       "product_type    0\n",
       "size            0\n",
       "text            0\n",
       "rating          0\n",
       "dtype: int64"
      ]
     },
     "execution_count": 66,
     "metadata": {},
     "output_type": "execute_result"
    }
   ],
   "source": [
    "# drop missing values\n",
    "df.dropna(inplace=True)\n",
    "\n",
    "# verify that there are no missing values\n",
    "df.isnull().sum()"
   ]
  },
  {
   "cell_type": "code",
   "execution_count": 67,
   "metadata": {},
   "outputs": [],
   "source": [
    "df.to_csv(\"../Data/preprocessed_data.csv\", index=False)"
   ]
  },
  {
   "cell_type": "code",
   "execution_count": null,
   "metadata": {},
   "outputs": [],
   "source": []
  },
  {
   "cell_type": "markdown",
   "metadata": {},
   "source": [
    "## Labeling Data with VADER"
   ]
  },
  {
   "cell_type": "code",
   "execution_count": 68,
   "metadata": {},
   "outputs": [],
   "source": [
    "import pandas as pd\n",
    "from vaderSentiment.vaderSentiment import SentimentIntensityAnalyzer"
   ]
  },
  {
   "cell_type": "code",
   "execution_count": 69,
   "metadata": {},
   "outputs": [
    {
     "name": "stdout",
     "output_type": "stream",
     "text": [
      "✅ Sentiment labeling completed using VADER!\n"
     ]
    }
   ],
   "source": [
    "import pandas as pd\n",
    "from vaderSentiment.vaderSentiment import SentimentIntensityAnalyzer\n",
    "\n",
    "# Load dataset\n",
    "df = pd.read_csv(\"../Data/preprocessed_data.csv\")  # Adjust file name if needed\n",
    "\n",
    "# Initialize VADER sentiment analyzer\n",
    "analyzer = SentimentIntensityAnalyzer()\n",
    "\n",
    "# Function to get sentiment label\n",
    "def get_sentiment(text):\n",
    "    score = analyzer.polarity_scores(text)[\"compound\"]\n",
    "    if score >= 0.05:\n",
    "        return 1  # Positive\n",
    "    elif score <= -0.05:\n",
    "        return -1  # Negative\n",
    "    else:\n",
    "        return 0  # Neutral\n",
    "\n",
    "# Apply VADER to 'text' column (review_text)\n",
    "df[\"sentiment\"] = df[\"text\"].apply(get_sentiment)\n",
    "\n",
    "# Save labeled dataset\n",
    "df.to_csv(\"../Data/labeled_reviews.csv\", index=False)\n",
    "\n",
    "print(\"✅ Sentiment labeling completed using VADER!\")\n"
   ]
  },
  {
   "cell_type": "code",
   "execution_count": 70,
   "metadata": {},
   "outputs": [
    {
     "name": "stdout",
     "output_type": "stream",
     "text": [
      "Label Distribution:\n",
      " sentiment\n",
      " 1    924\n",
      " 0     77\n",
      "-1     62\n",
      "Name: count, dtype: int64\n"
     ]
    },
    {
     "data": {
      "image/png": "[encoded data removed]",
      "text/plain": [
       "<Figure size 600x400 with 1 Axes>"
      ]
     },
     "metadata": {},
     "output_type": "display_data"
    }
   ],
   "source": [
    "import matplotlib.pyplot as plt\n",
    "\n",
    "# Count sentiment occurrences\n",
    "label_counts = df[\"sentiment\"].value_counts()\n",
    "\n",
    "# Print distribution\n",
    "print(\"Label Distribution:\\n\", label_counts)\n",
    "\n",
    "# Plot the distribution\n",
    "plt.figure(figsize=(6, 4))\n",
    "label_counts.plot(kind=\"bar\", color=[\"green\", \"gray\", \"red\"])\n",
    "plt.xticks(ticks=[0, 1, 2], labels=[\"Positive (1)\", \"Neutral (0)\", \"Negative (-1)\"])\n",
    "plt.ylabel(\"Count\")\n",
    "plt.title(\"Sentiment Label Distribution\")\n",
    "plt.show()\n"
   ]
  },
  {
   "cell_type": "markdown",
   "metadata": {},
   "source": [
    "##### We can see this dataset is highly imabalance\n",
    "##### So for handle the imbalance will use SMOTE\n",
    "#### Before that we have to split the dataset Bc SMOTE should use only for  training data"
   ]
  },
  {
   "cell_type": "markdown",
   "metadata": {},
   "source": [
    "#### Step 1: Transform text into Numeric Values (TF-IDF)\n",
    "\n",
    "##### Since machine learning models require numerical input, we will convert the text column into numerical form using TF-IDF (Term Frequency - Inverse Document Frequency)."
   ]
  },
  {
   "cell_type": "code",
   "execution_count": 71,
   "metadata": {},
   "outputs": [
    {
     "name": "stdout",
     "output_type": "stream",
     "text": [
      "✅ TF-IDF transformation completed! /n preprocessed data saved as 'preprocessed_data.csv'.\n"
     ]
    }
   ],
   "source": [
    "from sklearn.feature_extraction.text import TfidfVectorizer\n",
    "import pandas as pd\n",
    "\n",
    "# Load dataset\n",
    "df = pd.read_csv(\"../Data/labeled_reviews.csv\")  \n",
    "\n",
    "# Initialize TF-IDF Vectorizer\n",
    "vectorizer = TfidfVectorizer(max_features=5000)  # Limit features to reduce dimensionality\n",
    "\n",
    "# Apply TF-IDF transformation\n",
    "X_tfidf = vectorizer.fit_transform(df[\"text\"])  # Transform text column\n",
    "\n",
    "# Convert to DataFrame\n",
    "X_tfidf_df = pd.DataFrame(X_tfidf.toarray(), columns=vectorizer.get_feature_names_out())\n",
    "\n",
    "# Keep other columns unchanged\n",
    "df_transformed = pd.concat([df.drop(columns=[\"text\"]), X_tfidf_df], axis=1)\n",
    "\n",
    "# Save transformed dataset\n",
    "df_transformed.to_csv(\"../Data/transformed_data.csv\", index=False)\n",
    "\n",
    "print(\"✅ TF-IDF transformation completed! /n preprocessed data saved as 'preprocessed_data.csv'.\")\n"
   ]
  },
  {
   "cell_type": "markdown",
   "metadata": {},
   "source": [
    "#### 📌 Step 1: Splitting the Dataset into Train & Test Sets"
   ]
  },
  {
   "cell_type": "code",
   "execution_count": 72,
   "metadata": {},
   "outputs": [
    {
     "name": "stdout",
     "output_type": "stream",
     "text": [
      "✅ Data successfully split! Training and testing datasets saved.\n"
     ]
    }
   ],
   "source": [
    "from sklearn.model_selection import train_test_split\n",
    "\n",
    "# Load transformed dataset\n",
    "df = pd.read_csv(\"../Data/transformed_data.csv\")  \n",
    "\n",
    "# Define features (X) and target variable (y)\n",
    "X = df.drop(columns=[\"ID\", \"product_type\", \"size\", \"rating\", \"sentiment\"])  # Features\n",
    "y = df[\"sentiment\"]  # Target (labels)\n",
    "\n",
    "# Split into 80% training, 20% testing\n",
    "X_train, X_test, y_train, y_test = train_test_split(X, y, test_size=0.2, stratify=y, random_state=42)\n",
    "\n",
    "# Save split datasets\n",
    "X_train.to_csv(\"../Data/X_train.csv\", index=False)\n",
    "X_test.to_csv(\"../Data/X_test.csv\", index=False)\n",
    "y_train.to_csv(\"../Data/y_train.csv\", index=False)\n",
    "y_test.to_csv(\"../Data/y_test.csv\", index=False)\n",
    "\n",
    "print(\"✅ Data successfully split! Training and testing datasets saved.\")\n"
   ]
  },
  {
   "cell_type": "markdown",
   "metadata": {},
   "source": [
    "#### Step 3: Apply SMOTE on Training Data"
   ]
  },
  {
   "cell_type": "code",
   "execution_count": 73,
   "metadata": {},
   "outputs": [
    {
     "name": "stdout",
     "output_type": "stream",
     "text": [
      "✅ SMOTE applied! Balanced dataset saved as 'X_train_smote.csv' and 'y_train_smote.csv'.\n"
     ]
    }
   ],
   "source": [
    "from imblearn.over_sampling import SMOTE\n",
    "\n",
    "# Load training dataset\n",
    "X_train = pd.read_csv(\"../Data/X_train.csv\")\n",
    "y_train = pd.read_csv(\"../Data/y_train.csv\")\n",
    "\n",
    "# Apply SMOTE\n",
    "smote = SMOTE(sampling_strategy=\"auto\", random_state=42)\n",
    "X_train_smote, y_train_smote = smote.fit_resample(X_train, y_train)\n",
    "\n",
    "# Save SMOTE-applied dataset\n",
    "X_train_smote.to_csv(\"../Data/X_train_smote.csv\", index=False)\n",
    "y_train_smote.to_csv(\"../Data/y_train_smote.csv\", index=False)\n",
    "\n",
    "print(\"✅ SMOTE applied! Balanced dataset saved as 'X_train_smote.csv' and 'y_train_smote.csv'.\")\n"
   ]
  },
  {
   "cell_type": "markdown",
   "metadata": {},
   "source": [
    "##### Checked dataset balance"
   ]
  },
  {
   "cell_type": "code",
   "execution_count": 74,
   "metadata": {},
   "outputs": [
    {
     "name": "stdout",
     "output_type": "stream",
     "text": [
      "Label Distribution:\n",
      " sentiment\n",
      "-1           739\n",
      " 0           739\n",
      " 1           739\n",
      "Name: count, dtype: int64\n"
     ]
    },
    {
     "data": {
      "image/png": "[encoded data removed]",
      "text/plain": [
       "<Figure size 600x400 with 1 Axes>"
      ]
     },
     "metadata": {},
     "output_type": "display_data"
    }
   ],
   "source": [
    "\n",
    "# Count sentiment occurrences\n",
    "label_counts = y_train_smote.value_counts()\n",
    "\n",
    "# Print distribution\n",
    "print(\"Label Distribution:\\n\", label_counts)\n",
    "\n",
    "# Plot the distribution\n",
    "plt.figure(figsize=(6, 4))\n",
    "label_counts.plot(kind=\"bar\", color=[\"green\", \"gray\", \"red\"])\n",
    "\n",
    "# Set the x-tick labels for sentiment labels\n",
    "plt.xticks(ticks=[0, 1, 2], labels=[\"Positive (1)\", \"Neutral (0)\", \"Negative (-1)\"], rotation=0)\n",
    "\n",
    "# Set labels and title\n",
    "plt.ylabel(\"Count\")\n",
    "plt.title(\"Sentiment Label Distribution After SMOTE\")\n",
    "\n",
    "# Show the plot\n",
    "plt.show()\n"
   ]
  },
  {
   "cell_type": "markdown",
   "metadata": {},
   "source": [
    "### For now"
   ]
  },
  {
   "cell_type": "code",
   "execution_count": 75,
   "metadata": {},
   "outputs": [],
   "source": [
    "# from sklearn.linear_model import LogisticRegression\n",
    "# from sklearn.metrics import accuracy_score, confusion_matrix, classification_report\n",
    "# import seaborn as sns\n",
    "# import matplotlib.pyplot as plt\n",
    "\n",
    "# # Train the Logistic Regression model\n",
    "# model_lr = LogisticRegression(max_iter=1000)\n",
    "# model_lr.fit(X_train_smote, y_train_smote)\n",
    "\n",
    "# # Predict on the test set\n",
    "# y_pred = model_lr.predict(X_test)\n",
    "\n",
    "# # Calculate accuracy\n",
    "# accuracy = accuracy_score(y_test, y_pred)\n",
    "# print(f\"Logistic Regression Accuracy: {accuracy * 100:.2f}%\")\n",
    "\n",
    "# # Classification report\n",
    "# print(\"Classification Report:\")\n",
    "# print(classification_report(y_test, y_pred))\n",
    "\n",
    "# # Confusion Matrix\n",
    "# conf_matrix = confusion_matrix(y_test, y_pred)\n",
    "\n",
    "# # Plot confusion matrix\n",
    "# plt.figure(figsize=(6, 4))\n",
    "# sns.heatmap(conf_matrix, annot=True, fmt=\"d\", cmap=\"Blues\", xticklabels=[\"Negative\", \"Neutral\", \"Positive\"], yticklabels=[\"Negative\", \"Neutral\", \"Positive\"])\n",
    "# plt.ylabel('Actual')\n",
    "# plt.xlabel('Predicted')\n",
    "# plt.title('Confusion Matrix for Logistic Regression')\n",
    "# plt.show()\n"
   ]
  },
  {
   "cell_type": "code",
   "execution_count": null,
   "metadata": {},
   "outputs": [],
   "source": []
  }
 ],
 "metadata": {
  "kernelspec": {
   "display_name": "Python 3",
   "language": "python",
   "name": "python3"
  },
  "language_info": {
   "codemirror_mode": {
    "name": "ipython",
    "version": 3
   },
   "file_extension": ".py",
   "mimetype": "text/x-python",
   "name": "python",
   "nbconvert_exporter": "python",
   "pygments_lexer": "ipython3",
   "version": "3.11.9"
  }
 },
 "nbformat": 4,
 "nbformat_minor": 2
}
