{
 "cells": [
  {
   "cell_type": "code",
   "execution_count": 4,
   "metadata": {},
   "outputs": [
    {
     "name": "stderr",
     "output_type": "stream",
     "text": [
      "Processing Sentiments:   0%|          | 0/4926 [00:00<?, ?it/s]Asking to truncate to max_length but no maximum length is provided and the model has no predefined maximum length. Default to no truncation.\n",
      "Processing Sentiments: 100%|██████████| 4926/4926 [06:52<00:00, 11.94it/s]"
     ]
    },
    {
     "name": "stdout",
     "output_type": "stream",
     "text": [
      "Sentiment analysis completed. Saved to product_comments_with_sentiment.csv\n"
     ]
    },
    {
     "name": "stderr",
     "output_type": "stream",
     "text": [
      "\n"
     ]
    }
   ],
   "source": [
    "import pandas as pd\n",
    "from transformers import AutoTokenizer, AutoModelForSequenceClassification\n",
    "import torch\n",
    "from tqdm import tqdm\n",
    "\n",
    "# Load model and tokenizer\n",
    "tokenizer = AutoTokenizer.from_pretrained(\"cardiffnlp/twitter-roberta-base-sentiment\")\n",
    "model = AutoModelForSequenceClassification.from_pretrained(\"cardiffnlp/twitter-roberta-base-sentiment\")\n",
    "\n",
    "# Define function for sentiment analysis\n",
    "def analyze_sentiment(text):\n",
    "    if not isinstance(text, str):  # Ensure the input is a string\n",
    "        text = \"\"  # Replace invalid inputs with an empty string\n",
    "    inputs = tokenizer(text, return_tensors=\"pt\", truncation=True, padding=True)\n",
    "    outputs = model(**inputs)\n",
    "    logits = outputs.logits\n",
    "    probs = torch.nn.functional.softmax(logits, dim=-1)\n",
    "    predicted_class = torch.argmax(probs, dim=1).item()\n",
    "    labels = [\"Negative\", \"Neutral\", \"Positive\"]\n",
    "    return labels[predicted_class]\n",
    "\n",
    "# Load your dataset\n",
    "input_file = \"../data/review_texts.csv\"  # Path to your CSV file\n",
    "df = pd.read_csv(input_file)\n",
    "\n",
    "# Handle missing or non-string values\n",
    "df['review_text'] = df['review_text'].fillna(\"\").astype(str)\n",
    "\n",
    "# Apply the sentiment analysis function with a progress bar\n",
    "tqdm.pandas(desc=\"Processing Sentiments\")\n",
    "df['sentiment'] = df['review_text'].progress_apply(analyze_sentiment)\n",
    "\n",
    "# Save the updated dataset\n",
    "output_file = \"product_comments_with_sentiment.csv\"  # Output file path\n",
    "df.to_csv(output_file, index=False)\n",
    "\n",
    "print(f\"Sentiment analysis completed. Saved to {output_file}\")\n"
   ]
  }
 ],
 "metadata": {
  "kernelspec": {
   "display_name": "venv",
   "language": "python",
   "name": "python3"
  },
  "language_info": {
   "codemirror_mode": {
    "name": "ipython",
    "version": 3
   },
   "file_extension": ".py",
   "mimetype": "text/x-python",
   "name": "python",
   "nbconvert_exporter": "python",
   "pygments_lexer": "ipython3",
   "version": "3.12.0"
  }
 },
 "nbformat": 4,
 "nbformat_minor": 2
}
